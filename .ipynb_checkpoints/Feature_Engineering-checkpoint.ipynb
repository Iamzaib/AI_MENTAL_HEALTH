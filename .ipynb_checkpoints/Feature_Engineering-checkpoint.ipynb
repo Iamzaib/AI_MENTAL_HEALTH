{
 "cells": [
  {
   "cell_type": "code",
   "execution_count": 7,
   "id": "37d3e58c",
   "metadata": {},
   "outputs": [],
   "source": [
    "import pandas as pd\n",
    "from countrygroups import EUROPEAN_UNION\n",
    "df = pd.read_csv('Wellbeingdata_yr2223.csv')"
   ]
  },
  {
   "cell_type": "code",
   "execution_count": 13,
   "id": "16f67892",
   "metadata": {},
   "outputs": [],
   "source": [
    "def get_student_country(country):\n",
    "    if country == 'United Kingdom':\n",
    "        return 'Home student'\n",
    "    elif country in EUROPEAN_UNION.names:\n",
    "        return 'European student'\n",
    "    else:\n",
    "        return 'International student'"
   ]
  },
  {
   "cell_type": "code",
   "execution_count": 17,
   "id": "f0810ee1",
   "metadata": {},
   "outputs": [],
   "source": [
    "def get_student_fees(student):\n",
    "    if student == 'Home student' or student=='European student':\n",
    "        return 9250\n",
    "    else:\n",
    "        return 14350"
   ]
  },
  {
   "cell_type": "code",
   "execution_count": 14,
   "id": "32158302",
   "metadata": {},
   "outputs": [],
   "source": [
    "df['Are you a home student or an international student?']=df['16. What Country are you from?'].apply(get_student_country)"
   ]
  },
  {
   "cell_type": "code",
   "execution_count": 18,
   "id": "b78fd35c",
   "metadata": {},
   "outputs": [],
   "source": [
    "df['What are the approximate costs for your studies? (tuition fee per year of study, in pound £)']=df['Are you a home student or an international student?'].apply(get_student_fees)"
   ]
  },
  {
   "cell_type": "code",
   "execution_count": 19,
   "id": "a7e4f5b0",
   "metadata": {},
   "outputs": [
    {
     "data": {
      "text/plain": [
       "0       9250\n",
       "1       9250\n",
       "2       9250\n",
       "3       9250\n",
       "4       9250\n",
       "       ...  \n",
       "602     9250\n",
       "603     9250\n",
       "604     9250\n",
       "605    14350\n",
       "606    14350\n",
       "Name: What are the approximate costs for your studies? (tuition fee per year of study, in pound £), Length: 607, dtype: int64"
      ]
     },
     "execution_count": 19,
     "metadata": {},
     "output_type": "execute_result"
    }
   ],
   "source": [
    "df['What are the approximate costs for your studies? (tuition fee per year of study, in pound £)']"
   ]
  },
  {
   "cell_type": "code",
   "execution_count": 20,
   "id": "7c8721bd",
   "metadata": {},
   "outputs": [
    {
     "data": {
      "text/plain": [
       "0               Home student\n",
       "1               Home student\n",
       "2               Home student\n",
       "3               Home student\n",
       "4               Home student\n",
       "               ...          \n",
       "602             Home student\n",
       "603             Home student\n",
       "604             Home student\n",
       "605    International student\n",
       "606    International student\n",
       "Name: Are you a home student or an international student?, Length: 607, dtype: object"
      ]
     },
     "execution_count": 20,
     "metadata": {},
     "output_type": "execute_result"
    }
   ],
   "source": [
    "df['Are you a home student or an international student?']"
   ]
  },
  {
   "cell_type": "code",
   "execution_count": 22,
   "id": "d9ceab8f",
   "metadata": {},
   "outputs": [],
   "source": [
    "df.to_csv('Wellbeingdata_yr2223.csv')"
   ]
  }
 ],
 "metadata": {
  "kernelspec": {
   "display_name": "Python 3 (ipykernel)",
   "language": "python",
   "name": "python3"
  },
  "language_info": {
   "codemirror_mode": {
    "name": "ipython",
    "version": 3
   },
   "file_extension": ".py",
   "mimetype": "text/x-python",
   "name": "python",
   "nbconvert_exporter": "python",
   "pygments_lexer": "ipython3",
   "version": "3.10.12"
  }
 },
 "nbformat": 4,
 "nbformat_minor": 5
}
